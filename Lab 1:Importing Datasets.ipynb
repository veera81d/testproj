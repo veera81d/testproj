In this lab, you will learn the basics of loading and viewing data with Pandas

This course uses a third-party tool, Lab 1:Importing Datasets, to enhance your learning experience. The tool will reference basic information like your name, email, and Coursera ID.
